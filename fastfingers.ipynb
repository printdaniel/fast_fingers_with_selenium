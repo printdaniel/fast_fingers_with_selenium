{
 "cells": [
  {
   "cell_type": "code",
   "execution_count": 1,
   "id": "5bea8315-7bf7-4d9e-8ce3-1369f115b97c",
   "metadata": {},
   "outputs": [],
   "source": [
    "import time\n",
    "from constantes import  *\n",
    "\n",
    "from selenium import webdriver\n",
    "from selenium.webdriver.common.by import By\n",
    "from selenium.webdriver.support.expected_conditions import element_to_be_clickable\n",
    "from selenium.webdriver.support.expected_conditions import presence_of_all_elements_located\n",
    "from selenium.webdriver.support.ui import WebDriverWait\n",
    "\n"
   ]
  },
  {
   "cell_type": "code",
   "execution_count": 5,
   "id": "1320e780-5c86-4ad8-86b1-c5380fae4f82",
   "metadata": {},
   "outputs": [],
   "source": [
    "options = webdriver.ChromeOptions()\n",
    "options.add_argument('--start-maximized')\n",
    "#options.add_argument('--disable-extensions')\n",
    "options.add_experimental_option('detach', True) # para que no se cierre\n",
    "#options.add_argument('--incognito') # para que muestre menos publicidad\n"
   ]
  },
  {
   "cell_type": "code",
   "execution_count": 6,
   "id": "6dc931d2-648d-48b8-b01b-228826e0c362",
   "metadata": {},
   "outputs": [
    {
     "ename": "NameError",
     "evalue": "name 'EC' is not defined",
     "output_type": "error",
     "traceback": [
      "\u001b[0;31m---------------------------------------------------------------------------\u001b[0m",
      "\u001b[0;31mNameError\u001b[0m                                 Traceback (most recent call last)",
      "Cell \u001b[0;32mIn[6], line 4\u001b[0m\n\u001b[1;32m      1\u001b[0m chrome_driver \u001b[38;5;241m=\u001b[39m webdriver\u001b[38;5;241m.\u001b[39mChrome(options\u001b[38;5;241m=\u001b[39moptions)\n\u001b[1;32m      2\u001b[0m chrome_driver\u001b[38;5;241m.\u001b[39mget(FAST_FINGERS)\n\u001b[0;32m----> 4\u001b[0m deny_button \u001b[38;5;241m=\u001b[39m start_wait\u001b[38;5;241m.\u001b[39muntil(\u001b[43mEC\u001b[49m\u001b[38;5;241m.\u001b[39melement_to_be_clickable((By\u001b[38;5;241m.\u001b[39mXPATH, \u001b[38;5;124m\"\u001b[39m\u001b[38;5;124m//*[@id=\u001b[39m\u001b[38;5;124m'\u001b[39m\u001b[38;5;124mCybotCookiebotDialogBodyButtonDecline\u001b[39m\u001b[38;5;124m'\u001b[39m\u001b[38;5;124m]\u001b[39m\u001b[38;5;124m\"\u001b[39m)))\n\u001b[1;32m      5\u001b[0m deny_button\u001b[38;5;241m.\u001b[39mclick()\n",
      "\u001b[0;31mNameError\u001b[0m: name 'EC' is not defined"
     ]
    }
   ],
   "source": [
    "chrome_driver = webdriver.Chrome(options=options)\n",
    "chrome_driver.get(FAST_FINGERS)\n",
    "\n",
    "deny_button = start_wait.until(EC.element_to_be_clickable((By.XPATH, \"//*[@id='CybotCookiebotDialogBodyButtonDecline']\")))\n",
    "deny_button.click()"
   ]
  },
  {
   "cell_type": "code",
   "execution_count": null,
   "id": "75b7c919-d8d9-43ae-bf14-c061aef9cdda",
   "metadata": {},
   "outputs": [],
   "source": []
  }
 ],
 "metadata": {
  "kernelspec": {
   "display_name": "Python 3 (ipykernel)",
   "language": "python",
   "name": "python3"
  },
  "language_info": {
   "codemirror_mode": {
    "name": "ipython",
    "version": 3
   },
   "file_extension": ".py",
   "mimetype": "text/x-python",
   "name": "python",
   "nbconvert_exporter": "python",
   "pygments_lexer": "ipython3",
   "version": "3.11.3"
  }
 },
 "nbformat": 4,
 "nbformat_minor": 5
}
