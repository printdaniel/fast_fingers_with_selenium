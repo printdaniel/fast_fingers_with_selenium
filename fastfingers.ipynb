{
 "cells": [
  {
   "cell_type": "code",
   "execution_count": 61,
   "id": "5bea8315-7bf7-4d9e-8ce3-1369f115b97c",
   "metadata": {},
   "outputs": [],
   "source": [
    "import time\n",
    "from constantes import  *\n",
    "\n",
    "from selenium import webdriver\n",
    "from selenium.webdriver.common.by import By\n",
    "from selenium.webdriver.support.expected_conditions import element_to_be_clickable\n",
    "from selenium.webdriver.support.expected_conditions import presence_of_all_elements_located\n",
    "from selenium.webdriver.support.ui import WebDriverWait\n",
    "from selenium.webdriver.support import expected_conditions as EC\n",
    "from selenium.webdriver.common.keys import Keys\n"
   ]
  },
  {
   "cell_type": "code",
   "execution_count": 2,
   "id": "1320e780-5c86-4ad8-86b1-c5380fae4f82",
   "metadata": {},
   "outputs": [],
   "source": [
    "options = webdriver.ChromeOptions()\n",
    "options.add_argument('--start-maximized')\n",
    "#options.add_argument('--disable-extensions')\n",
    "options.add_experimental_option('detach', True) # para que no se cierre\n",
    "#options.add_argument('--incognito') # para que muestre menos publicidad\n"
   ]
  },
  {
   "cell_type": "code",
   "execution_count": 3,
   "id": "6dc931d2-648d-48b8-b01b-228826e0c362",
   "metadata": {},
   "outputs": [],
   "source": [
    "chrome_driver = webdriver.Chrome(options=options)\n",
    "chrome_driver.get(FAST_FINGERS)\n",
    "start_wait = WebDriverWait(chrome_driver, 30)\n",
    "\n",
    "deny_button = start_wait.until(EC.element_to_be_clickable((By.XPATH, \"//*[@id='CybotCookiebotDialogBodyButtonDecline']\")))\n",
    "deny_button.click()\n"
   ]
  },
  {
   "cell_type": "code",
   "execution_count": 73,
   "id": "75b7c919-d8d9-43ae-bf14-c061aef9cdda",
   "metadata": {},
   "outputs": [],
   "source": [
    "# Encuentra todos los elementos de del div que contiene los span\n",
    "def get_list_in_box_txt(driver):\n",
    "    span_elements = chrome_driver.find_elements(By.XPATH,\"//*[@id='row1']/span[165]\")\n",
    "\n",
    "    text_list = [element.text for element in span_elements]\n",
    "    text_list = [word for word in text_list if word != '']\n",
    "    return text_list\n"
   ]
  },
  {
   "cell_type": "code",
   "execution_count": 74,
   "id": "ffdb55f9-1add-405d-9e26-9c111e1a72b2",
   "metadata": {},
   "outputs": [
    {
     "data": {
      "text/plain": [
       "[]"
      ]
     },
     "execution_count": 74,
     "metadata": {},
     "output_type": "execute_result"
    }
   ],
   "source": [
    "text_list = get_list_in_box_txt(chrome_driver)\n",
    "text_list\n"
   ]
  },
  {
   "cell_type": "code",
   "execution_count": 59,
   "id": "02016434-30c2-4929-8a6f-aa6dae2e9bed",
   "metadata": {},
   "outputs": [],
   "source": [
    "# Input elemento\n",
    "def send_keys(lst: list, driver):\n",
    "    input_element = chrome_driver.find_element(By.XPATH, \"//*[@id='inputfield']\")\n",
    "    \n",
    "    # for 1 recorre la lista de palabras\n",
    "    for word in lst:\n",
    "        \n",
    "        # for 2 recorre los caracteres por palabras\n",
    "        for char in word:\n",
    "            input_element.send_keys(char)\n",
    "            time.sleep(1/20)\n",
    "        input_element.send_keys(\" \")\n",
    "      "
   ]
  },
  {
   "cell_type": "code",
   "execution_count": 63,
   "id": "ded0c9b7-7d93-43f7-a65c-b8d62ec4ba80",
   "metadata": {},
   "outputs": [
    {
     "name": "stdout",
     "output_type": "stream",
     "text": [
      "['buena', 'si', 'después', 'sí', 'has', 'hay', 'su', 'lugar', 'así', 'parece', 'bien', 'la', 'crees', 'el', 'dice', 'nuevo', 'tengo', 'oh', 'nuevo', 'papas', 'tiempo', 'alguien', 'solo', 'antes']\n"
     ]
    },
    {
     "ename": "StaleElementReferenceException",
     "evalue": "Message: stale element reference: stale element not found\n  (Session info: chrome=116.0.5845.96); For documentation on this error, please visit: https://www.selenium.dev/documentation/webdriver/troubleshooting/errors#stale-element-reference-exception\nStacktrace:\n#0 0x55c6bdae7184 <unknown>\n#1 0x55c6bd83a33e <unknown>\n#2 0x55c6bd8475f1 <unknown>\n#3 0x55c6bd83ef37 <unknown>\n#4 0x55c6bd83e0db <unknown>\n#5 0x55c6bd840185 <unknown>\n#6 0x55c6bd840244 <unknown>\n#7 0x55c6bd879b2f <unknown>\n#8 0x55c6bd8799bd <unknown>\n#9 0x55c6bd879bd5 <unknown>\n#10 0x55c6bd871cee <unknown>\n#11 0x55c6bd89b002 <unknown>\n#12 0x55c6bd86f581 <unknown>\n#13 0x55c6bd89b27e <unknown>\n#14 0x55c6bd8b1f3c <unknown>\n#15 0x55c6bd89ada3 <unknown>\n#16 0x55c6bd86d597 <unknown>\n#17 0x55c6bd86ebf3 <unknown>\n#18 0x55c6bdab4e97 <unknown>\n#19 0x55c6bdab8120 <unknown>\n#20 0x55c6bdab7b98 <unknown>\n#21 0x55c6bdab8635 <unknown>\n#22 0x55c6bdabf4cb <unknown>\n#23 0x55c6bdab8a10 <unknown>\n#24 0x55c6bda92ca0 <unknown>\n#25 0x55c6bdad2c17 <unknown>\n#26 0x55c6bdad2e2b <unknown>\n#27 0x55c6bdae123e <unknown>\n#28 0x7fe38e48c9eb <unknown>\n",
     "output_type": "error",
     "traceback": [
      "\u001b[0;31m---------------------------------------------------------------------------\u001b[0m",
      "\u001b[0;31mStaleElementReferenceException\u001b[0m            Traceback (most recent call last)",
      "Cell \u001b[0;32mIn[63], line 6\u001b[0m\n\u001b[1;32m      4\u001b[0m \u001b[38;5;28mprint\u001b[39m(text_list)\n\u001b[1;32m      5\u001b[0m send_keys(text_list, chrome_driver)\n\u001b[0;32m----> 6\u001b[0m \u001b[43minput_element\u001b[49m\u001b[38;5;241;43m.\u001b[39;49m\u001b[43msend_keys\u001b[49m\u001b[43m(\u001b[49m\u001b[43mKeys\u001b[49m\u001b[38;5;241;43m.\u001b[39;49m\u001b[43mBACKSPACE\u001b[49m\u001b[43m)\u001b[49m\n\u001b[1;32m      7\u001b[0m text_list \u001b[38;5;241m=\u001b[39m get_list_in_box_txt(chrome_driver)\n",
      "File \u001b[0;32m~/Escritorio/Proyectos/fastfingers_typeracer/venv/lib/python3.11/site-packages/selenium/webdriver/remote/webelement.py:230\u001b[0m, in \u001b[0;36mWebElement.send_keys\u001b[0;34m(self, *value)\u001b[0m\n\u001b[1;32m    227\u001b[0m             remote_files\u001b[38;5;241m.\u001b[39mappend(\u001b[38;5;28mself\u001b[39m\u001b[38;5;241m.\u001b[39m_upload(file))\n\u001b[1;32m    228\u001b[0m         value \u001b[38;5;241m=\u001b[39m \u001b[38;5;124m\"\u001b[39m\u001b[38;5;130;01m\\n\u001b[39;00m\u001b[38;5;124m\"\u001b[39m\u001b[38;5;241m.\u001b[39mjoin(remote_files)\n\u001b[0;32m--> 230\u001b[0m \u001b[38;5;28;43mself\u001b[39;49m\u001b[38;5;241;43m.\u001b[39;49m\u001b[43m_execute\u001b[49m\u001b[43m(\u001b[49m\n\u001b[1;32m    231\u001b[0m \u001b[43m    \u001b[49m\u001b[43mCommand\u001b[49m\u001b[38;5;241;43m.\u001b[39;49m\u001b[43mSEND_KEYS_TO_ELEMENT\u001b[49m\u001b[43m,\u001b[49m\u001b[43m \u001b[49m\u001b[43m{\u001b[49m\u001b[38;5;124;43m\"\u001b[39;49m\u001b[38;5;124;43mtext\u001b[39;49m\u001b[38;5;124;43m\"\u001b[39;49m\u001b[43m:\u001b[49m\u001b[43m \u001b[49m\u001b[38;5;124;43m\"\u001b[39;49m\u001b[38;5;124;43m\"\u001b[39;49m\u001b[38;5;241;43m.\u001b[39;49m\u001b[43mjoin\u001b[49m\u001b[43m(\u001b[49m\u001b[43mkeys_to_typing\u001b[49m\u001b[43m(\u001b[49m\u001b[43mvalue\u001b[49m\u001b[43m)\u001b[49m\u001b[43m)\u001b[49m\u001b[43m,\u001b[49m\u001b[43m \u001b[49m\u001b[38;5;124;43m\"\u001b[39;49m\u001b[38;5;124;43mvalue\u001b[39;49m\u001b[38;5;124;43m\"\u001b[39;49m\u001b[43m:\u001b[49m\u001b[43m \u001b[49m\u001b[43mkeys_to_typing\u001b[49m\u001b[43m(\u001b[49m\u001b[43mvalue\u001b[49m\u001b[43m)\u001b[49m\u001b[43m}\u001b[49m\n\u001b[1;32m    232\u001b[0m \u001b[43m\u001b[49m\u001b[43m)\u001b[49m\n",
      "File \u001b[0;32m~/Escritorio/Proyectos/fastfingers_typeracer/venv/lib/python3.11/site-packages/selenium/webdriver/remote/webelement.py:394\u001b[0m, in \u001b[0;36mWebElement._execute\u001b[0;34m(self, command, params)\u001b[0m\n\u001b[1;32m    392\u001b[0m     params \u001b[38;5;241m=\u001b[39m {}\n\u001b[1;32m    393\u001b[0m params[\u001b[38;5;124m\"\u001b[39m\u001b[38;5;124mid\u001b[39m\u001b[38;5;124m\"\u001b[39m] \u001b[38;5;241m=\u001b[39m \u001b[38;5;28mself\u001b[39m\u001b[38;5;241m.\u001b[39m_id\n\u001b[0;32m--> 394\u001b[0m \u001b[38;5;28;01mreturn\u001b[39;00m \u001b[38;5;28;43mself\u001b[39;49m\u001b[38;5;241;43m.\u001b[39;49m\u001b[43m_parent\u001b[49m\u001b[38;5;241;43m.\u001b[39;49m\u001b[43mexecute\u001b[49m\u001b[43m(\u001b[49m\u001b[43mcommand\u001b[49m\u001b[43m,\u001b[49m\u001b[43m \u001b[49m\u001b[43mparams\u001b[49m\u001b[43m)\u001b[49m\n",
      "File \u001b[0;32m~/Escritorio/Proyectos/fastfingers_typeracer/venv/lib/python3.11/site-packages/selenium/webdriver/remote/webdriver.py:344\u001b[0m, in \u001b[0;36mWebDriver.execute\u001b[0;34m(self, driver_command, params)\u001b[0m\n\u001b[1;32m    342\u001b[0m response \u001b[38;5;241m=\u001b[39m \u001b[38;5;28mself\u001b[39m\u001b[38;5;241m.\u001b[39mcommand_executor\u001b[38;5;241m.\u001b[39mexecute(driver_command, params)\n\u001b[1;32m    343\u001b[0m \u001b[38;5;28;01mif\u001b[39;00m response:\n\u001b[0;32m--> 344\u001b[0m     \u001b[38;5;28;43mself\u001b[39;49m\u001b[38;5;241;43m.\u001b[39;49m\u001b[43merror_handler\u001b[49m\u001b[38;5;241;43m.\u001b[39;49m\u001b[43mcheck_response\u001b[49m\u001b[43m(\u001b[49m\u001b[43mresponse\u001b[49m\u001b[43m)\u001b[49m\n\u001b[1;32m    345\u001b[0m     response[\u001b[38;5;124m\"\u001b[39m\u001b[38;5;124mvalue\u001b[39m\u001b[38;5;124m\"\u001b[39m] \u001b[38;5;241m=\u001b[39m \u001b[38;5;28mself\u001b[39m\u001b[38;5;241m.\u001b[39m_unwrap_value(response\u001b[38;5;241m.\u001b[39mget(\u001b[38;5;124m\"\u001b[39m\u001b[38;5;124mvalue\u001b[39m\u001b[38;5;124m\"\u001b[39m, \u001b[38;5;28;01mNone\u001b[39;00m))\n\u001b[1;32m    346\u001b[0m     \u001b[38;5;28;01mreturn\u001b[39;00m response\n",
      "File \u001b[0;32m~/Escritorio/Proyectos/fastfingers_typeracer/venv/lib/python3.11/site-packages/selenium/webdriver/remote/errorhandler.py:229\u001b[0m, in \u001b[0;36mErrorHandler.check_response\u001b[0;34m(self, response)\u001b[0m\n\u001b[1;32m    227\u001b[0m         alert_text \u001b[38;5;241m=\u001b[39m value[\u001b[38;5;124m\"\u001b[39m\u001b[38;5;124malert\u001b[39m\u001b[38;5;124m\"\u001b[39m]\u001b[38;5;241m.\u001b[39mget(\u001b[38;5;124m\"\u001b[39m\u001b[38;5;124mtext\u001b[39m\u001b[38;5;124m\"\u001b[39m)\n\u001b[1;32m    228\u001b[0m     \u001b[38;5;28;01mraise\u001b[39;00m exception_class(message, screen, stacktrace, alert_text)  \u001b[38;5;66;03m# type: ignore[call-arg]  # mypy is not smart enough here\u001b[39;00m\n\u001b[0;32m--> 229\u001b[0m \u001b[38;5;28;01mraise\u001b[39;00m exception_class(message, screen, stacktrace)\n",
      "\u001b[0;31mStaleElementReferenceException\u001b[0m: Message: stale element reference: stale element not found\n  (Session info: chrome=116.0.5845.96); For documentation on this error, please visit: https://www.selenium.dev/documentation/webdriver/troubleshooting/errors#stale-element-reference-exception\nStacktrace:\n#0 0x55c6bdae7184 <unknown>\n#1 0x55c6bd83a33e <unknown>\n#2 0x55c6bd8475f1 <unknown>\n#3 0x55c6bd83ef37 <unknown>\n#4 0x55c6bd83e0db <unknown>\n#5 0x55c6bd840185 <unknown>\n#6 0x55c6bd840244 <unknown>\n#7 0x55c6bd879b2f <unknown>\n#8 0x55c6bd8799bd <unknown>\n#9 0x55c6bd879bd5 <unknown>\n#10 0x55c6bd871cee <unknown>\n#11 0x55c6bd89b002 <unknown>\n#12 0x55c6bd86f581 <unknown>\n#13 0x55c6bd89b27e <unknown>\n#14 0x55c6bd8b1f3c <unknown>\n#15 0x55c6bd89ada3 <unknown>\n#16 0x55c6bd86d597 <unknown>\n#17 0x55c6bd86ebf3 <unknown>\n#18 0x55c6bdab4e97 <unknown>\n#19 0x55c6bdab8120 <unknown>\n#20 0x55c6bdab7b98 <unknown>\n#21 0x55c6bdab8635 <unknown>\n#22 0x55c6bdabf4cb <unknown>\n#23 0x55c6bdab8a10 <unknown>\n#24 0x55c6bda92ca0 <unknown>\n#25 0x55c6bdad2c17 <unknown>\n#26 0x55c6bdad2e2b <unknown>\n#27 0x55c6bdae123e <unknown>\n#28 0x7fe38e48c9eb <unknown>\n"
     ]
    }
   ],
   "source": [
    "text_list = get_list_in_box_txt(chrome_driver)\n",
    "while text_list:\n",
    "    \n",
    "    print(text_list)\n",
    "    send_keys(text_list, chrome_driver)\n",
    "    input_element.send_keys(Keys.BACKSPACE)\n",
    "    text_list = get_list_in_box_txt(chrome_driver)"
   ]
  },
  {
   "cell_type": "code",
   "execution_count": 87,
   "id": "396c0070-e64b-476a-9d99-7be84cf3d245",
   "metadata": {},
   "outputs": [
    {
     "data": {
      "text/plain": [
       "'qué'"
      ]
     },
     "execution_count": 87,
     "metadata": {},
     "output_type": "execute_result"
    }
   ],
   "source": [
    "def get_list_in_box(driver, indice):\n",
    "    span_elements = chrome_driver.find_element(By.XPATH,f\"//*[@id='row1']/span[{indice}]\")\n",
    "    palabra = span_elements.text\n",
    "    return palabra\n",
    "palabra = get_list_in_box(chrome_driver, 6)\n",
    "palabra"
   ]
  },
  {
   "cell_type": "code",
   "execution_count": 101,
   "id": "a97f3e43-bf4e-446c-9b76-dd754121bb18",
   "metadata": {},
   "outputs": [],
   "source": [
    "def send_keys(string: str, driver):\n",
    "    input_element = chrome_driver.find_element(By.XPATH, \"//*[@id='inputfield']\")\n",
    "    \n",
    "    for char in string:\n",
    "        input_element.send_keys(char)\n",
    "        time.sleep(1/110)\n",
    "    input_element.send_keys(\" \")\n",
    "      "
   ]
  },
  {
   "cell_type": "code",
   "execution_count": 102,
   "id": "a01f0712-8c0e-4d47-a49a-ba990008ee6f",
   "metadata": {},
   "outputs": [],
   "source": [
    "palabra = get_list_in_box(chrome_driver, 1)\n",
    "count = 1\n",
    "while palabra:\n",
    "    \n",
    "    send_keys(palabra, chrome_driver)\n",
    "    count += 1\n",
    "    palabra = get_list_in_box(chrome_driver, count)\n"
   ]
  },
  {
   "cell_type": "code",
   "execution_count": null,
   "id": "22b9a4eb-2d5f-4952-b3b2-148892f1edfb",
   "metadata": {},
   "outputs": [],
   "source": []
  }
 ],
 "metadata": {
  "kernelspec": {
   "display_name": "Python 3 (ipykernel)",
   "language": "python",
   "name": "python3"
  },
  "language_info": {
   "codemirror_mode": {
    "name": "ipython",
    "version": 3
   },
   "file_extension": ".py",
   "mimetype": "text/x-python",
   "name": "python",
   "nbconvert_exporter": "python",
   "pygments_lexer": "ipython3",
   "version": "3.11.3"
  }
 },
 "nbformat": 4,
 "nbformat_minor": 5
}
