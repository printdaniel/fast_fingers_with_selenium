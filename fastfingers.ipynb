{
 "cells": [
  {
   "cell_type": "code",
   "execution_count": 1,
   "id": "5bea8315-7bf7-4d9e-8ce3-1369f115b97c",
   "metadata": {},
   "outputs": [],
   "source": [
    "import time\n",
    "from constantes import  *\n",
    "\n",
    "from selenium import webdriver\n",
    "from selenium.webdriver.common.by import By\n",
    "from selenium.webdriver.support.expected_conditions import element_to_be_clickable\n",
    "from selenium.webdriver.support.expected_conditions import presence_of_all_elements_located\n",
    "from selenium.webdriver.support.ui import WebDriverWait\n",
    "from selenium.webdriver.support import expected_conditions as EC\n"
   ]
  },
  {
   "cell_type": "code",
   "execution_count": 2,
   "id": "1320e780-5c86-4ad8-86b1-c5380fae4f82",
   "metadata": {},
   "outputs": [],
   "source": [
    "options = webdriver.ChromeOptions()\n",
    "options.add_argument('--start-maximized')\n",
    "#options.add_argument('--disable-extensions')\n",
    "options.add_experimental_option('detach', True) # para que no se cierre\n",
    "#options.add_argument('--incognito') # para que muestre menos publicidad\n"
   ]
  },
  {
   "cell_type": "code",
   "execution_count": 4,
   "id": "6dc931d2-648d-48b8-b01b-228826e0c362",
   "metadata": {},
   "outputs": [],
   "source": [
    "\n",
    "chrome_driver = webdriver.Chrome(options=options)\n",
    "chrome_driver.get(FAST_FINGERS)\n",
    "start_wait = WebDriverWait(chrome_driver, 30)\n",
    "\n",
    "deny_button = start_wait.until(EC.element_to_be_clickable((By.XPATH, \"//*[@id='CybotCookiebotDialogBodyButtonDecline']\")))\n",
    "deny_button.click()\n",
    "\n"
   ]
  },
  {
   "cell_type": "code",
   "execution_count": 23,
   "id": "75b7c919-d8d9-43ae-bf14-c061aef9cdda",
   "metadata": {},
   "outputs": [],
   "source": [
    "# Encuentra todos los elementos de del div que contiene los span\n",
    "def get_list_in_box_txt(driver):\n",
    "    span_elements = chrome_driver.find_elements(By.XPATH,\"//span[@wordnr]\")\n",
    "\n",
    "    text_list = [element.text for element in span_elements]\n",
    "    text_list = [word for word in text_list if word != '']\n",
    "    return text_list\n"
   ]
  },
  {
   "cell_type": "code",
   "execution_count": 64,
   "id": "ffdb55f9-1add-405d-9e26-9c111e1a72b2",
   "metadata": {},
   "outputs": [
    {
     "data": {
      "text/plain": [
       "['las',\n",
       " 'quiere',\n",
       " 'oh',\n",
       " 'gran',\n",
       " 'es',\n",
       " 'hay',\n",
       " 'otra',\n",
       " 'quiere',\n",
       " 'nada',\n",
       " 'soy',\n",
       " 'los',\n",
       " 'tengo',\n",
       " 'lo',\n",
       " 'nos',\n",
       " 'sobre',\n",
       " 'por',\n",
       " 'ser',\n",
       " 'ni',\n",
       " 'estado',\n",
       " 'tener',\n",
       " 'dónde',\n",
       " 'ti',\n",
       " 'por']"
      ]
     },
     "execution_count": 64,
     "metadata": {},
     "output_type": "execute_result"
    }
   ],
   "source": [
    "text_list = get_list_in_box_txt(chrome_driver)\n",
    "text_list\n"
   ]
  },
  {
   "cell_type": "code",
   "execution_count": 66,
   "id": "02016434-30c2-4929-8a6f-aa6dae2e9bed",
   "metadata": {},
   "outputs": [],
   "source": [
    "input_element = chrome_driver.find_element(By.XPATH, \"//*[@id='inputfield']\")\n"
   ]
  },
  {
   "cell_type": "code",
   "execution_count": 67,
   "id": "ded0c9b7-7d93-43f7-a65c-b8d62ec4ba80",
   "metadata": {},
   "outputs": [],
   "source": [
    "for word in text_list:\n",
    "    for char in word:\n",
    "        input_element.send_keys(char)\n",
    "        time.sleep(1/3)\n",
    "    input_element.send_keys(\" \")"
   ]
  },
  {
   "cell_type": "code",
   "execution_count": null,
   "id": "396c0070-e64b-476a-9d99-7be84cf3d245",
   "metadata": {},
   "outputs": [],
   "source": []
  }
 ],
 "metadata": {
  "kernelspec": {
   "display_name": "Python 3 (ipykernel)",
   "language": "python",
   "name": "python3"
  },
  "language_info": {
   "codemirror_mode": {
    "name": "ipython",
    "version": 3
   },
   "file_extension": ".py",
   "mimetype": "text/x-python",
   "name": "python",
   "nbconvert_exporter": "python",
   "pygments_lexer": "ipython3",
   "version": "3.11.3"
  }
 },
 "nbformat": 4,
 "nbformat_minor": 5
}
