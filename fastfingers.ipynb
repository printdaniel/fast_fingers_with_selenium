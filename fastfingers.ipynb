{
 "cells": [
  {
   "cell_type": "code",
   "execution_count": 1,
   "id": "5bea8315-7bf7-4d9e-8ce3-1369f115b97c",
   "metadata": {},
   "outputs": [],
   "source": [
    "import time\n",
    "from constantes import  *\n",
    "\n",
    "from selenium import webdriver\n",
    "from selenium.webdriver.common.by import By\n",
    "from selenium.webdriver.support.expected_conditions import element_to_be_clickable\n",
    "from selenium.webdriver.support.expected_conditions import presence_of_all_elements_located\n",
    "from selenium.webdriver.support.ui import WebDriverWait\n",
    "from selenium.webdriver.support import expected_conditions as EC\n"
   ]
  },
  {
   "cell_type": "code",
   "execution_count": 2,
   "id": "1320e780-5c86-4ad8-86b1-c5380fae4f82",
   "metadata": {},
   "outputs": [],
   "source": [
    "options = webdriver.ChromeOptions()\n",
    "options.add_argument('--start-maximized')\n",
    "#options.add_argument('--disable-extensions')\n",
    "options.add_experimental_option('detach', True) # para que no se cierre\n",
    "#options.add_argument('--incognito') # para que muestre menos publicidad\n"
   ]
  },
  {
   "cell_type": "code",
   "execution_count": 4,
   "id": "6dc931d2-648d-48b8-b01b-228826e0c362",
   "metadata": {},
   "outputs": [],
   "source": [
    "\n",
    "chrome_driver = webdriver.Chrome(options=options)\n",
    "chrome_driver.get(FAST_FINGERS)\n",
    "start_wait = WebDriverWait(chrome_driver, 30)\n",
    "\n",
    "deny_button = start_wait.until(EC.element_to_be_clickable((By.XPATH, \"//*[@id='CybotCookiebotDialogBodyButtonDecline']\")))\n",
    "deny_button.click()\n",
    "\n"
   ]
  },
  {
   "cell_type": "code",
   "execution_count": null,
   "id": "75b7c919-d8d9-43ae-bf14-c061aef9cdda",
   "metadata": {},
   "outputs": [],
   "source": [
    " \n",
    "div_element = driver.find_element_by_id('row1')\n",
    "div_elements = start_wait.until(EC.element_to_be_clickable((By.XPATH, //*[@id=\"words\"]))\n",
    "# Encuentra todos los elementos span dentro del div\n",
    "span_elements = div_element.find_elements_by_tag_name('span')\n",
    "\n",
    "# Obtiene el texto de cada elemento span y lo almacena en una lista\n",
    "text_list = [element.text for element in span_elements]\n",
    "\n"
   ]
  }
 ],
 "metadata": {
  "kernelspec": {
   "display_name": "Python 3 (ipykernel)",
   "language": "python",
   "name": "python3"
  },
  "language_info": {
   "codemirror_mode": {
    "name": "ipython",
    "version": 3
   },
   "file_extension": ".py",
   "mimetype": "text/x-python",
   "name": "python",
   "nbconvert_exporter": "python",
   "pygments_lexer": "ipython3",
   "version": "3.11.3"
  }
 },
 "nbformat": 4,
 "nbformat_minor": 5
}
